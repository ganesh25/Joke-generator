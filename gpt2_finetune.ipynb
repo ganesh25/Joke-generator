{
  "nbformat": 4,
  "nbformat_minor": 0,
  "metadata": {
    "colab": {
      "name": "gpt2_finetune",
      "provenance": [],
      "collapsed_sections": []
    },
    "kernelspec": {
      "name": "python3",
      "display_name": "Python 3"
    },
    "accelerator": "GPU"
  },
  "cells": [
    {
      "cell_type": "markdown",
      "metadata": {
        "id": "H7LoMj4GA4n_"
      },
      "source": [
        "#  Train a GPT-2 Text-Generating Model w/ GPU For Free \n",
        "\n",
        "inspired from (https://github.com/minimaxir/gpt-2-simple)\n"
      ]
    },
    {
      "cell_type": "code",
      "metadata": {
        "id": "KBkpRgBCBS2_",
        "colab": {
          "base_uri": "https://localhost:8080/"
        },
        "outputId": "ec1e5863-0bf6-4c59-e97e-4bc46fa897fe"
      },
      "source": [
        "%tensorflow_version 1.x\n",
        "!pip install -q gpt-2-simple\n",
        "import gpt_2_simple as gpt2\n",
        "from datetime import datetime\n",
        "from google.colab import files"
      ],
      "execution_count": 1,
      "outputs": [
        {
          "output_type": "stream",
          "text": [
            "TensorFlow 1.x selected.\n",
            "  Building wheel for gpt-2-simple (setup.py) ... \u001b[?25l\u001b[?25hdone\n",
            "WARNING:tensorflow:\n",
            "The TensorFlow contrib module will not be included in TensorFlow 2.0.\n",
            "For more information, please see:\n",
            "  * https://github.com/tensorflow/community/blob/master/rfcs/20180907-contrib-sunset.md\n",
            "  * https://github.com/tensorflow/addons\n",
            "  * https://github.com/tensorflow/io (for I/O related ops)\n",
            "If you depend on functionality not listed there, please file an issue.\n",
            "\n"
          ],
          "name": "stdout"
        }
      ]
    },
    {
      "cell_type": "markdown",
      "metadata": {
        "id": "Bj2IJLHP3KwE"
      },
      "source": [
        "## GPU\n",
        "\n",
        "Colaboratory uses either a Nvidia T4 GPU or an Nvidia K80 GPU. The T4 is slightly faster than the old K80 for training GPT-2, and has more memory allowing you to train the larger GPT-2 models and generate more text.\n",
        "\n",
        "You can verify which GPU is active by running the cell below."
      ]
    },
    {
      "cell_type": "code",
      "metadata": {
        "id": "sUmTooTW3osf",
        "colab": {
          "base_uri": "https://localhost:8080/"
        },
        "outputId": "6a137620-71a9-47d2-9c75-e2baec090e58"
      },
      "source": [
        "!nvidia-smi"
      ],
      "execution_count": 2,
      "outputs": [
        {
          "output_type": "stream",
          "text": [
            "Thu Feb  4 10:35:47 2021       \n",
            "+-----------------------------------------------------------------------------+\n",
            "| NVIDIA-SMI 460.39       Driver Version: 418.67       CUDA Version: 10.1     |\n",
            "|-------------------------------+----------------------+----------------------+\n",
            "| GPU  Name        Persistence-M| Bus-Id        Disp.A | Volatile Uncorr. ECC |\n",
            "| Fan  Temp  Perf  Pwr:Usage/Cap|         Memory-Usage | GPU-Util  Compute M. |\n",
            "|                               |                      |               MIG M. |\n",
            "|===============================+======================+======================|\n",
            "|   0  Tesla K80           Off  | 00000000:00:04.0 Off |                    0 |\n",
            "| N/A   58C    P8    31W / 149W |      0MiB / 11441MiB |      0%      Default |\n",
            "|                               |                      |                 ERR! |\n",
            "+-------------------------------+----------------------+----------------------+\n",
            "                                                                               \n",
            "+-----------------------------------------------------------------------------+\n",
            "| Processes:                                                                  |\n",
            "|  GPU   GI   CI        PID   Type   Process name                  GPU Memory |\n",
            "|        ID   ID                                                   Usage      |\n",
            "|=============================================================================|\n",
            "|  No running processes found                                                 |\n",
            "+-----------------------------------------------------------------------------+\n"
          ],
          "name": "stdout"
        }
      ]
    },
    {
      "cell_type": "markdown",
      "metadata": {
        "id": "0wXB05bPDYxS"
      },
      "source": [
        "## Downloading GPT-2\n",
        "\n",
        "If you're retraining a model on new text, you need to download the GPT-2 model first. \n",
        "\n",
        "There are three released sizes of GPT-2:\n",
        "\n",
        "* `124M` (default): the \"small\" model, 500MB on disk.\n",
        "* `355M`: the \"medium\" model, 1.5GB on disk.\n",
        "* `774M`: the \"large\" model, cannot currently be finetuned with Colaboratory but can be used to generate text from the pretrained model (see later in Notebook)\n",
        "* `1558M`: the \"extra large\", true model. Will not work if a K80 GPU is attached to the notebook. (like `774M`, it cannot be finetuned).\n",
        "\n",
        "Larger models have more knowledge, but take longer to finetune and longer to generate text. You can specify which base model to use by changing `model_name` in the cells below.\n",
        "\n",
        "The next cell downloads it from Google Cloud Storage and saves it in the Colaboratory VM at `/models/<model_name>`.\n",
        "\n",
        "This model isn't permanently saved in the Colaboratory VM; you'll have to redownload it if you want to retrain it at a later time."
      ]
    },
    {
      "cell_type": "code",
      "metadata": {
        "id": "P8wSlgXoDPCR",
        "colab": {
          "base_uri": "https://localhost:8080/"
        },
        "outputId": "7bad95fe-5670-413b-cb4c-61688229cc4f"
      },
      "source": [
        "gpt2.download_gpt2(model_name=\"124M\")"
      ],
      "execution_count": 3,
      "outputs": [
        {
          "output_type": "stream",
          "text": [
            "Fetching checkpoint: 1.05Mit [00:00, 268Mit/s]                                                      \n",
            "Fetching encoder.json: 1.05Mit [00:00, 78.7Mit/s]                                                   \n",
            "Fetching hparams.json: 1.05Mit [00:00, 376Mit/s]                                                    \n",
            "Fetching model.ckpt.data-00000-of-00001: 498Mit [00:04, 119Mit/s]                                   \n",
            "Fetching model.ckpt.index: 1.05Mit [00:00, 232Mit/s]                                                \n",
            "Fetching model.ckpt.meta: 1.05Mit [00:00, 122Mit/s]                                                 \n",
            "Fetching vocab.bpe: 1.05Mit [00:00, 134Mit/s]                                                       \n"
          ],
          "name": "stderr"
        }
      ]
    },
    {
      "cell_type": "markdown",
      "metadata": {
        "id": "N8KXuKWzQSsN"
      },
      "source": [
        "## Mounting Google Drive\n",
        "\n",
        "The best way to get input text to-be-trained into the Colaboratory VM, and to get the trained model *out* of Colaboratory, is to route it through Google Drive *first*.\n",
        "\n",
        "Running this cell (which will only work in Colaboratory) will mount your personal Google Drive in the VM, which later cells can use to get data in/out. (it will ask for an auth code; that auth is not saved anywhere)"
      ]
    },
    {
      "cell_type": "code",
      "metadata": {
        "id": "puq4iC6vUAHc",
        "colab": {
          "base_uri": "https://localhost:8080/"
        },
        "outputId": "38bef57e-e1ea-4f1e-85be-c553faf83754"
      },
      "source": [
        "gpt2.mount_gdrive()"
      ],
      "execution_count": 4,
      "outputs": [
        {
          "output_type": "stream",
          "text": [
            "Mounted at /content/drive\n"
          ],
          "name": "stdout"
        }
      ]
    },
    {
      "cell_type": "markdown",
      "metadata": {
        "id": "BT__brhBCvJu"
      },
      "source": [
        "## Uploading a Text File to be Trained to Colaboratory\n",
        "\n",
        "In the Colaboratory Notebook sidebar on the left of the screen, select *Files*. From there you can upload files:\n",
        "\n",
        "![alt text](https://i.imgur.com/TGcZT4h.png)\n",
        "\n",
        "Upload **any smaller text file**  (<10 MB) and update the file name in the cell below, then run the cell."
      ]
    },
    {
      "cell_type": "code",
      "metadata": {
        "id": "6OFnPCLADfll"
      },
      "source": [
        "file_name = \"jokes.txt\""
      ],
      "execution_count": 5,
      "outputs": []
    },
    {
      "cell_type": "markdown",
      "metadata": {
        "id": "HeeSKtNWUedE"
      },
      "source": [
        "If your text file is larger than 10MB, it is recommended to upload that file to Google Drive first, then copy that file from Google Drive to the Colaboratory VM."
      ]
    },
    {
      "cell_type": "code",
      "metadata": {
        "id": "-Z6okFD8VKtS"
      },
      "source": [
        "gpt2.copy_file_from_gdrive(file_name)"
      ],
      "execution_count": 6,
      "outputs": []
    },
    {
      "cell_type": "markdown",
      "metadata": {
        "id": "LdpZQXknFNY3"
      },
      "source": [
        "## Finetune GPT-2\n",
        "\n",
        "The next cell will start the actual finetuning of GPT-2. It creates a persistent TensorFlow session which stores the training config, then runs the training for the specified number of `steps`. (to have the finetuning run indefinitely, set `steps = -1`)\n",
        "\n",
        "The model checkpoints will be saved in `/checkpoint/run1` by default. The checkpoints are saved every 500 steps (can be changed) and when the cell is stopped.\n",
        "\n",
        "The training might time out after 4ish hours; make sure you end training and save the results so you don't lose them!\n",
        "\n",
        "**IMPORTANT NOTE:** If you want to rerun this cell, **restart the VM first** (Runtime -> Restart Runtime). You will need to rerun imports but not recopy files.\n",
        "\n",
        "Other optional-but-helpful parameters for `gpt2.finetune`:\n",
        "\n",
        "\n",
        "*  **`restore_from`**: Set to `fresh` to start training from the base GPT-2, or set to `latest` to restart training from an existing checkpoint.\n",
        "* **`sample_every`**: Number of steps to print example output\n",
        "* **`print_every`**: Number of steps to print training progress.\n",
        "* **`learning_rate`**:  Learning rate for the training. (default `1e-4`, can lower to `1e-5` if you have <1MB input data)\n",
        "*  **`run_name`**: subfolder within `checkpoint` to save the model. This is useful if you want to work with multiple models (will also need to specify  `run_name` when loading the model)\n",
        "* **`overwrite`**: Set to `True` if you want to continue finetuning an existing model (w/ `restore_from='latest'`) without creating duplicate copies. "
      ]
    },
    {
      "cell_type": "code",
      "metadata": {
        "id": "aeXshJM-Cuaf",
        "colab": {
          "base_uri": "https://localhost:8080/"
        },
        "outputId": "58277dab-77c3-4f2f-d910-c6a45b86e1b0"
      },
      "source": [
        "sess = gpt2.start_tf_sess()\n",
        "\n",
        "gpt2.finetune(sess,\n",
        "              dataset=file_name,\n",
        "              model_name='124M',\n",
        "              steps=1000,\n",
        "              restore_from='fresh',\n",
        "              run_name='run1',\n",
        "              print_every=10,\n",
        "              sample_every=200,\n",
        "              save_every=500\n",
        "              )"
      ],
      "execution_count": null,
      "outputs": [
        {
          "output_type": "stream",
          "text": [
            "WARNING:tensorflow:From /usr/local/lib/python3.6/dist-packages/gpt_2_simple/src/sample.py:17: where (from tensorflow.python.ops.array_ops) is deprecated and will be removed in a future version.\n",
            "Instructions for updating:\n",
            "Use tf.where in 2.0, which has the same broadcast rule as np.where\n",
            "Loading checkpoint models/124M/model.ckpt\n",
            "INFO:tensorflow:Restoring parameters from models/124M/model.ckpt\n"
          ],
          "name": "stdout"
        },
        {
          "output_type": "stream",
          "text": [
            "\r  0%|          | 0/1 [00:00<?, ?it/s]"
          ],
          "name": "stderr"
        },
        {
          "output_type": "stream",
          "text": [
            "Loading dataset...\n"
          ],
          "name": "stdout"
        },
        {
          "output_type": "stream",
          "text": [
            "100%|██████████| 1/1 [00:00<00:00,  2.61it/s]\n"
          ],
          "name": "stderr"
        },
        {
          "output_type": "stream",
          "text": [
            "dataset has 35459 tokens\n",
            "Training...\n",
            "[10 | 52.33] loss=3.07 avg=3.07\n",
            "[20 | 96.41] loss=2.75 avg=2.91\n",
            "[30 | 140.38] loss=2.47 avg=2.76\n",
            "[40 | 184.29] loss=2.20 avg=2.62\n",
            "[50 | 228.19] loss=1.56 avg=2.40\n",
            "[60 | 272.06] loss=1.30 avg=2.22\n",
            "[70 | 315.95] loss=1.04 avg=2.04\n",
            "[80 | 359.84] loss=0.76 avg=1.88\n",
            "[90 | 403.71] loss=0.57 avg=1.73\n",
            "[100 | 447.61] loss=0.45 avg=1.59\n",
            "[110 | 491.50] loss=0.49 avg=1.49\n",
            "[120 | 535.36] loss=0.35 avg=1.39\n",
            "[130 | 579.25] loss=0.26 avg=1.30\n",
            "[140 | 623.15] loss=0.22 avg=1.21\n",
            "[150 | 667.03] loss=0.18 avg=1.14\n",
            "[160 | 710.90] loss=0.12 avg=1.07\n",
            "[170 | 754.78] loss=0.15 avg=1.01\n",
            "[180 | 798.65] loss=0.10 avg=0.96\n",
            "[190 | 842.53] loss=0.07 avg=0.91\n",
            "[200 | 886.39] loss=0.09 avg=0.86\n",
            "======== SAMPLE 1 ========\n",
            ".\n",
            "\n",
            "Why did the packaged orange go to art school? Because he wanted to learn.\n",
            "\n",
            "Old game show bloopers... They were all broken.\n",
            "\n",
            "Did you hear about the homemade hallucinogenic drug? You did.\n",
            "\n",
            "What did the host of aces say when his mood was sour? Urine disorder.\n",
            "\n",
            "What do you call an alien with no body and no nose? A PUA.\n",
            "\n",
            "What do you call two guys above a window? Curt 'n Rod\n",
            "\n",
            "What do you call an Italian grocery clerk and his son-of-osk clerks? Steak clerks\n",
            "\n",
            "A skeleton walks into a bar. And a steak... and a mop. And a pelican... And a cow. And a pelican and a whale and a dinosaur and a mop.\n",
            "\n",
            "What do you call the Hamburglar's accomplice? haf-fuh-l!\n",
            "\n",
            "Why did the banker invest in gold bars? Because he was misled. And because he was, he bought into a veryinflationate cycle.\n",
            "\n",
            "This is 2 girls with light-colored shorts... one is a student, the other is a teacher\n",
            "\n",
            "What do you call a Mexican with bulimic legs? elbow-deep in viscous red and sticky as a present from the Mexican drug lords.\n",
            "\n",
            "What did the owner of a brownie factory say when his factory caught fire? \"I'm getting the brownie out of the can!\"\n",
            "\n",
            "What do you call a foursome? A fourgrill.\n",
            "\n",
            "What's a pirate's favorite wallpaper? Painted sand...\n",
            "\n",
            "Why did the chicken cross the playground? To get to the other slide\n",
            "\n",
            "What do you call a bunch of Asian bears? Panda-rats.\n",
            "\n",
            "What's black and white... ...black and white blues, white and reds\n",
            "\n",
            "My old nemesis the butcher stepped into the back of a car and said,\"Do you reckon with this walk down the street twerkingless thingy?\" I said,\"I'll give her a twist.\"\n",
            "\n",
            "Why couldn't the woman cook her child for breakfast? Because she was always toast.\n",
            "\n",
            "What do you call a bunch of Asian bears rubbing one another on the nose? A kin---t.\n",
            "\n",
            "Why did the swimmer win the competition? Because he was AMAZINGLY JAZELOUS!\n",
            "\n",
            "What did the tailpipe say to the sound system? I love you guys.\n",
            "\n",
            "Why did the firefly win the competition? Because he was the world's best sleaze.\n",
            "\n",
            "Why are librarians less likely to smoke? Because they are online.\n",
            "\n",
            "What do you call a dog with no legs? Sure. But it'd be a dud.\n",
            "\n",
            "What do you call a ubiquitous spud? A common-tater!\n",
            "\n",
            "What do you call a locomotive with no legs? locomotive\n",
            "\n",
            "An amateur in the field... Plays a game about railroading.\n",
            "\n",
            "What's a fluke not to play chess? A mathematician.\n",
            "\n",
            "How do you hamper traffic? You hoist it!\n",
            "\n",
            "What's an antenna's favorite genre of music? Pop.\n",
            "\n",
            "Want to hear a dirty joke? This boy trips and falls into some mud.\n",
            "\n",
            "Noah wasn't much for civilized society... ...he was a booby trap.\n",
            "\n",
            "Noah wasn't afraid to experiment. ...If his experiment proved to be too unwieldy, he might call for a Noah's Ark.\n",
            "\n",
            "If you don't buy some of my jokes, you may be buying an antennae.\n",
            "\n",
            "What do you call a bear with no eyes? No eye.\n",
            "\n",
            "What's a stegosaurus greatest fear? A bear with a stegosaurus's mouth covered in glue.\n",
            "\n",
            "A cow fell off a truck in Russia It wasn't life-threatening.\n",
            "\n",
            "What is Africa's favorite cake? A borscht.\n",
            "\n",
            "I'm so sad because I have the cash I've been holding onto... Ugh, I feel like I'm running out of cash.\n",
            "\n",
            "Why did the dog go into the water? Because he didn't want to be a hot dog.\n",
            "\n",
            "Why'd the hipster burn his mouth on his coffee? Because he drank it before it was cool.\n",
            "\n",
            "What did one jungle doctor say to the other? Get over yourself.\n",
            "\n",
            "How did the rapper get married? He ditched his leash.\n",
            "\n",
            "What do you call a geologist with a black history? A Qty\n",
            "\n",
            "Where did the general keep his armies? In his sleevies.\n",
            "\n",
            "Congratulation on the new baby, from your family.... except from me because I don't really care.\n",
            "\n",
            "What is agitated buy joyful? A washing machine\n",
            "\n",
            "Why are dogs so smart dogs? Because they are so smart.\n",
            "\n",
            "What does a lion put into his cheese? N\n",
            "\n",
            "[210 | 948.67] loss=0.05 avg=0.82\n",
            "[220 | 992.54] loss=0.06 avg=0.78\n",
            "[230 | 1036.44] loss=0.06 avg=0.75\n",
            "[240 | 1080.35] loss=0.05 avg=0.71\n",
            "[250 | 1124.23] loss=0.05 avg=0.68\n",
            "[260 | 1168.10] loss=0.04 avg=0.65\n",
            "[270 | 1212.01] loss=0.05 avg=0.63\n",
            "[280 | 1255.89] loss=0.04 avg=0.61\n",
            "[290 | 1299.75] loss=0.03 avg=0.58\n",
            "[300 | 1343.64] loss=0.03 avg=0.56\n",
            "[310 | 1387.54] loss=0.04 avg=0.54\n",
            "[320 | 1431.42] loss=0.04 avg=0.52\n",
            "[330 | 1475.30] loss=0.03 avg=0.51\n",
            "[340 | 1519.16] loss=0.03 avg=0.49\n",
            "[350 | 1563.03] loss=0.04 avg=0.47\n",
            "[360 | 1606.90] loss=0.03 avg=0.46\n",
            "[370 | 1650.79] loss=0.03 avg=0.45\n",
            "[380 | 1694.66] loss=0.04 avg=0.43\n",
            "[390 | 1738.52] loss=0.03 avg=0.42\n",
            "[400 | 1782.40] loss=0.04 avg=0.41\n",
            "======== SAMPLE 1 ========\n",
            " for a one handed sailor? A hand sanitary\n",
            "\n",
            "What do you call a blind deer? An antinever.\n",
            "\n",
            "Where does a river keep it's money? At the bank.\n",
            "\n",
            "One last joke... \"Who's the best at creating fake documents? Sir Cumference and Sir Watson.\"\n",
            "\n",
            "I heard hes short for exaggerated, but that depends on what you guys think of it.\n",
            "\n",
            "What do call a man with a rubber toe? Man in rubber toe.\n",
            "\n",
            "Why did the bee go to the doctor? Because he had hives.\n",
            "\n",
            "What did one honeycomb say to the other? 'tis day by one\n",
            "\n",
            "What do you call a bee with a rubber toe? A honeycomb day.\n",
            "\n",
            "My buddy said he doesn't want to be an alcoholic. Well, I don't know that that's an option for them.\n",
            "\n",
            "What do you call a social butterfly that sings rap music? A plaid plait.\n",
            "\n",
            "Why did the picnic get up and dance? Because he was presented with a pie by one of his fellows.\n",
            "\n",
            "I saw a documentary on how the police try to classify people film by film. For example, I can't prove it, but I heard it is very likely bordello.\n",
            "\n",
            "What do you call a man with a rubber toe? A man in rubber toe.\n",
            "\n",
            "Why did the bicycle fall over? Because it was two tired.\n",
            "\n",
            "What did one snowman say when the other snowman didn't go? \"I'll be right back.\"\n",
            "\n",
            "There you have it all! I've got your back! I've got your ads! - from my 9 year old.\n",
            "\n",
            "What do you call a bear with a rubber toe? A roamin rib.\n",
            "\n",
            "How do you find Will Smith in the snow? You look for fresh prince...\n",
            "\n",
            "One time, a cow saved my life It was bovine intervention.\n",
            "\n",
            "Why should you always knock before opening the refrigerator? Because there might be an Italian dressing.\n",
            "\n",
            "What did the rubber goose say when he spilled drink after drink on the volleyball court? Nacho Nice Belt\n",
            "\n",
            "What did one snowman say when the other snowman didn't go? \"I'll be right back.\"\n",
            "\n",
            "Why are cats bad storytellers? They only have one *tale*\n",
            "\n",
            "Balloon's What's a balloon's favorite genre of music? Pop.\n",
            "\n",
            "Why was the dolphin sad? He couldn't find a girlfriend.\n",
            "\n",
            "What Johnny Mercer song did the rock do for the day? Played bass.\n",
            "\n",
            "What's the difference between a Jew and a pizza? The pizza can be found in the pizza shop\n",
            "\n",
            "What do you call a fish that operates on brains? The pizza!\n",
            "\n",
            "What did the frog say to the frog? \"You're a drag!\"\n",
            "\n",
            "Other uses for chloroform 1) A great conversational piece when talking to the cops about using it 2) Make it out to be a crime movie 3) And finally, as a reagent.\n",
            "\n",
            "I don't like going to funerals early in the day. I'm not much of a mourning person.\n",
            "\n",
            "What's the best way to introduce a stranger? With a joke.\n",
            "\n",
            "What did the floor say to the floor? I can see your drawlux.\n",
            "\n",
            "What kind of boat does a crab make his escape from? A deep-sea skiff!\n",
            "\n",
            "Why did the chef leave his job? He wanted to fish it for himself.\n",
            "\n",
            "What do you call a mealplan that includes bros? A bros dinner\n",
            "\n",
            "Why did the vegan leave his job? he was fed on meat\n",
            "\n",
            "I saw an article about spam and it was awful. I tell my friends not to do it.\n",
            "\n",
            "What do you call a pile of kittens? A meowtin\n",
            "\n",
            "What form of extraterrestrial life does not involve life on other planets? Anything that is above the law.\n",
            "\n",
            "I heard it's a good night to be alive after a string of nuclear explosions. Think again.\n",
            "\n",
            "Why did the octogenarian get fired? He started his life as an octogenarian.\n",
            "\n",
            "I covered a marathon in three years... I was exhausted.\n",
            "\n",
            "Why did the php lawyer get fired? He implemented AskYourSays.\n",
            "\n",
            "What do you call a stingray that eats people? A penny sipper\n",
            "\n",
            "Why did the papa leave her job?\"Shelled\"\n",
            "\n",
            "What is a sponge's favorite meal? Sponge Warfare\n",
            "\n",
            "What do you call a stingray that wipes out a crowded freeway? Camembert!\n",
            "\n",
            "Why did the golfer lose his job? He couldn't find a partner!\n",
            "\n",
            "Today a woman asked a stoned Johnny the way she got her tooth; he said,\"I don't know, I'm in love with a dime.\"\n",
            "\n",
            "What do you call a blind deer? No-eye deer\n",
            "\n",
            "[410 | 1843.36] loss=0.04 avg=0.40\n",
            "[420 | 1887.26] loss=0.03 avg=0.39\n",
            "[430 | 1931.13] loss=0.02 avg=0.38\n",
            "[440 | 1975.00] loss=0.04 avg=0.37\n",
            "[450 | 2018.88] loss=0.02 avg=0.36\n",
            "[460 | 2062.75] loss=0.03 avg=0.35\n",
            "[470 | 2106.63] loss=0.03 avg=0.34\n",
            "[480 | 2150.50] loss=0.04 avg=0.33\n",
            "[490 | 2194.41] loss=0.03 avg=0.33\n",
            "[500 | 2238.29] loss=0.03 avg=0.32\n",
            "Saving checkpoint/run1/model-500\n",
            "[510 | 2285.28] loss=0.03 avg=0.31\n",
            "[520 | 2329.14] loss=0.03 avg=0.30\n",
            "[530 | 2373.02] loss=0.03 avg=0.30\n",
            "[540 | 2416.93] loss=0.03 avg=0.29\n",
            "[550 | 2460.81] loss=0.02 avg=0.28\n",
            "[560 | 2504.69] loss=0.03 avg=0.28\n",
            "[570 | 2548.55] loss=0.03 avg=0.27\n",
            "[580 | 2592.42] loss=0.02 avg=0.27\n"
          ],
          "name": "stdout"
        }
      ]
    },
    {
      "cell_type": "markdown",
      "metadata": {
        "id": "IXSuTNERaw6K"
      },
      "source": [
        "After the model is trained, you can copy the checkpoint folder to your own Google Drive.\n",
        "\n",
        "If you want to download it to your personal computer, it's strongly recommended you copy it there first, then download from Google Drive. The checkpoint folder is copied as a `.rar` compressed file; you can download it and uncompress it locally."
      ]
    },
    {
      "cell_type": "code",
      "metadata": {
        "id": "VHdTL8NDbAh3"
      },
      "source": [
        "gpt2.copy_checkpoint_to_gdrive(run_name='run1')"
      ],
      "execution_count": null,
      "outputs": []
    },
    {
      "cell_type": "markdown",
      "metadata": {
        "id": "qQJgV_b4bmzd"
      },
      "source": [
        "You're done! Feel free to go to the **Generate Text From The Trained Model** section to generate text based on your retrained model."
      ]
    },
    {
      "cell_type": "markdown",
      "metadata": {
        "id": "pel-uBULXO2L"
      },
      "source": [
        "## Load a Trained Model Checkpoint\n",
        "\n",
        "Running the next cell will copy the `.rar` checkpoint file from your Google Drive into the Colaboratory VM."
      ]
    },
    {
      "cell_type": "code",
      "metadata": {
        "id": "DCcx5u7sbPTD"
      },
      "source": [
        "gpt2.copy_checkpoint_from_gdrive(run_name='run1')"
      ],
      "execution_count": null,
      "outputs": []
    },
    {
      "cell_type": "markdown",
      "metadata": {
        "id": "RTa6zf3e_9gV"
      },
      "source": [
        "The next cell will allow you to load the retrained model checkpoint + metadata necessary to generate text.\n",
        "\n",
        "**IMPORTANT NOTE:** If you want to rerun this cell, **restart the VM first** (Runtime -> Restart Runtime). You will need to rerun imports but not recopy files."
      ]
    },
    {
      "cell_type": "code",
      "metadata": {
        "id": "-fxL77nvAMAX"
      },
      "source": [
        "sess = gpt2.start_tf_sess()\n",
        "gpt2.load_gpt2(sess, run_name='run1')"
      ],
      "execution_count": null,
      "outputs": []
    },
    {
      "cell_type": "markdown",
      "metadata": {
        "id": "ClJwpF_ACONp"
      },
      "source": [
        "## Generate Text From The Trained Model\n",
        "\n",
        "After you've trained the model or loaded a retrained model from checkpoint, you can now generate text. `generate` generates a single text from the loaded model."
      ]
    },
    {
      "cell_type": "code",
      "metadata": {
        "id": "4RNY6RBI9LmL"
      },
      "source": [
        "gpt2.generate(sess, run_name='run1')"
      ],
      "execution_count": null,
      "outputs": []
    },
    {
      "cell_type": "markdown",
      "metadata": {
        "id": "oF4-PqF0Fl7R"
      },
      "source": [
        "If you're creating an API based on your model and need to pass the generated text elsewhere, you can do `text = gpt2.generate(sess, return_as_list=True)[0]`\n",
        "\n",
        "You can also pass in a `prefix` to the generate function to force the text to start with a given character sequence and generate text from there (good if you add an indicator when the text starts).\n",
        "\n",
        "You can also generate multiple texts at a time by specifing `nsamples`. Unique to GPT-2, you can pass a `batch_size` to generate multiple samples in parallel, giving a massive speedup (in Colaboratory, set a maximum of 20 for `batch_size`).\n",
        "\n",
        "Other optional-but-helpful parameters for `gpt2.generate` and friends:\n",
        "\n",
        "*  **`length`**: Number of tokens to generate (default 1023, the maximum)\n",
        "* **`temperature`**: The higher the temperature, the crazier the text (default 0.7, recommended to keep between 0.7 and 1.0)\n",
        "* **`top_k`**: Limits the generated guesses to the top *k* guesses (default 0 which disables the behavior; if the generated output is super crazy, you may want to set `top_k=40`)\n",
        "* **`top_p`**: Nucleus sampling: limits the generated guesses to a cumulative probability. (gets good results on a dataset with `top_p=0.9`)\n",
        "* **`truncate`**: Truncates the input text until a given sequence, excluding that sequence (e.g. if `truncate='<|endoftext|>'`, the returned text will include everything before the first `<|endoftext|>`). It may be useful to combine this with a smaller `length` if the input texts are short.\n",
        "*  **`include_prefix`**: If using `truncate` and `include_prefix=False`, the specified `prefix` will not be included in the returned text."
      ]
    },
    {
      "cell_type": "code",
      "metadata": {
        "id": "8DKMc0fiej4N"
      },
      "source": [
        "gpt2.generate(sess,\n",
        "              length=250,\n",
        "              temperature=0.7,\n",
        "              prefix=\"LORD\",\n",
        "              nsamples=5,\n",
        "              batch_size=5\n",
        "              )"
      ],
      "execution_count": null,
      "outputs": []
    },
    {
      "cell_type": "markdown",
      "metadata": {
        "id": "zjjEN2Tafhl2"
      },
      "source": [
        "For bulk generation, you can generate a large amount of text to a file and sort out the samples locally on your computer. The next cell will generate a generated text file with a unique timestamp.\n",
        "\n",
        "You can rerun the cells as many times as you want for even more generated texts!"
      ]
    }
  ]
}